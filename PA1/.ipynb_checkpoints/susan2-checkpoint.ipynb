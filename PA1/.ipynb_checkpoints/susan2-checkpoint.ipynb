{
 "cells": [
  {
   "cell_type": "code",
   "execution_count": 1,
   "metadata": {
    "collapsed": true
   },
   "outputs": [],
   "source": [
    "#!/usr/bin/env python3\n",
    "# -*- coding: utf-8 -*-"
   ]
  },
  {
   "cell_type": "code",
   "execution_count": 2,
   "metadata": {
    "collapsed": true
   },
   "outputs": [],
   "source": [
    "#############################################################\n",
    "##                                                         ##\n",
    "##           PROBLEM 4: SUSAN CORNER DETECTION             ##\n",
    "##                                                         ##\n",
    "#############################################################"
   ]
  },
  {
   "cell_type": "markdown",
   "metadata": {},
   "source": [
    "## SUSAN "
   ]
  },
  {
   "cell_type": "markdown",
   "metadata": {},
   "source": [
    "1)Image is convolved with circular mask of size 7*7 <br/>\n",
    "2) with in each region The number of pixels of USAN  is computed as by formula sigma(e^(-(Ir-I(ro))/t)^6<br/>\n",
    "R(r0) = g - n(r0) for n(r0) <=g<br/>\n",
    "        0         for n(r0) >g<br/>\n",
    "g is half of n max value of a mask M<br/>\n",
    "4) Non maxima supression step is applied in the last and corners are plotted on the image<br/>"
   ]
  },
  {
   "cell_type": "code",
   "execution_count": 3,
   "metadata": {
    "collapsed": true
   },
   "outputs": [],
   "source": [
    "from PIL import Image\n",
    "#from pylab import *\n",
    "import matplotlib.pyplot as plt\n",
    "import numpy as np\n",
    "from  scipy.ndimage import filters\n",
    "from scipy import misc\n",
    "from scipy import  signal\n",
    "import math\n",
    "from numpy.linalg import inv\n",
    "import copy as cp\n",
    "from numpy.linalg import inv\n",
    "from scipy import interpolate\n",
    "from scipy import ndimage\n",
    "\n",
    "import cv2"
   ]
  },
  {
   "cell_type": "code",
   "execution_count": 1,
   "metadata": {},
   "outputs": [
    {
     "ename": "NameError",
     "evalue": "name 'Image' is not defined",
     "output_type": "error",
     "traceback": [
      "\u001b[0;31m---------------------------------------------------------------------------\u001b[0m",
      "\u001b[0;31mNameError\u001b[0m                                 Traceback (most recent call last)",
      "\u001b[0;32m<ipython-input-1-15c5a8edb095>\u001b[0m in \u001b[0;36m<module>\u001b[0;34m()\u001b[0m\n\u001b[1;32m      1\u001b[0m \u001b[0mimage_name1\u001b[0m \u001b[0;34m=\u001b[0m \u001b[0;34m'susan_input2.png'\u001b[0m\u001b[0;34m\u001b[0m\u001b[0m\n\u001b[1;32m      2\u001b[0m \u001b[0mimage_name2\u001b[0m \u001b[0;34m=\u001b[0m \u001b[0;34m'susan_input2.png'\u001b[0m\u001b[0;34m\u001b[0m\u001b[0m\n\u001b[0;32m----> 3\u001b[0;31m \u001b[0mi1\u001b[0m \u001b[0;34m=\u001b[0m \u001b[0mImage\u001b[0m\u001b[0;34m.\u001b[0m\u001b[0mopen\u001b[0m\u001b[0;34m(\u001b[0m\u001b[0mimage_name1\u001b[0m\u001b[0;34m)\u001b[0m\u001b[0;34m.\u001b[0m\u001b[0mconvert\u001b[0m\u001b[0;34m(\u001b[0m\u001b[0;34m'L'\u001b[0m\u001b[0;34m)\u001b[0m\u001b[0;34m\u001b[0m\u001b[0m\n\u001b[0m\u001b[1;32m      4\u001b[0m \u001b[0mi2\u001b[0m \u001b[0;34m=\u001b[0m \u001b[0mImage\u001b[0m\u001b[0;34m.\u001b[0m\u001b[0mopen\u001b[0m\u001b[0;34m(\u001b[0m\u001b[0mimage_name2\u001b[0m\u001b[0;34m)\u001b[0m\u001b[0;34m.\u001b[0m\u001b[0mconvert\u001b[0m\u001b[0;34m(\u001b[0m\u001b[0;34m'L'\u001b[0m\u001b[0;34m)\u001b[0m\u001b[0;34m\u001b[0m\u001b[0m\n\u001b[1;32m      5\u001b[0m \u001b[0mplt\u001b[0m\u001b[0;34m.\u001b[0m\u001b[0mfigure\u001b[0m\u001b[0;34m(\u001b[0m\u001b[0;36m1\u001b[0m\u001b[0;34m)\u001b[0m\u001b[0;34m\u001b[0m\u001b[0m\n",
      "\u001b[0;31mNameError\u001b[0m: name 'Image' is not defined"
     ]
    }
   ],
   "source": [
    "image_name1 = 'susan_input2.png'\n",
    "image_name2 = 'susan_input2.png'\n",
    "i1 = Image.open(image_name1).convert('L')\n",
    "i2 = Image.open(image_name2).convert('L')\n",
    "plt.figure(1)\n",
    "plt.imshow(i1)"
   ]
  },
  {
   "cell_type": "code",
   "execution_count": 5,
   "metadata": {
    "collapsed": true
   },
   "outputs": [],
   "source": [
    "I2 = np.array(i2)\n",
    "I1 = np.zeros(I2.shape)\n",
    "circular_filter = np.ones((7,7))"
   ]
  },
  {
   "cell_type": "code",
   "execution_count": 6,
   "metadata": {
    "collapsed": true
   },
   "outputs": [],
   "source": [
    "#set boudnaries to zero\n",
    "circular_filter[0][0] = 0\n",
    "circular_filter[0][1] = 0\n",
    "circular_filter[1][0] = 0\n",
    "\n",
    "circular_filter[0][5] = 0\n",
    "circular_filter[0][6] = 0\n",
    "circular_filter[1][6] = 0\n",
    "\n",
    "\n",
    "circular_filter[5][0] = 0\n",
    "circular_filter[6][0] = 0\n",
    "circular_filter[6][1] = 0\n",
    "\n",
    "circular_filter[6][6] = 0\n",
    "circular_filter[6][6] = 0\n",
    "circular_filter[5][6] = 0"
   ]
  },
  {
   "cell_type": "code",
   "execution_count": 7,
   "metadata": {},
   "outputs": [
    {
     "data": {
      "text/plain": [
       "<matplotlib.image.AxesImage at 0x7f1b8c1dc588>"
      ]
     },
     "execution_count": 7,
     "metadata": {},
     "output_type": "execute_result"
    }
   ],
   "source": [
    "#concolve the image with circular filter to get the n(r) values of each pixel\n",
    "\n",
    "R = np.zeros(I1.shape)\n",
    "maskr = 3\n",
    "maxN = 0\n",
    "len1 = 2*maskr+1\n",
    "threshold = 25\n",
    "\n",
    "plt.gray()\n",
    "#plt.figure(0)\n",
    "plt.imshow(Image.fromarray(I2))"
   ]
  },
  {
   "cell_type": "code",
   "execution_count": 8,
   "metadata": {
    "collapsed": true
   },
   "outputs": [],
   "source": [
    "I1[:] = I2[:]\n",
    "\n",
    "xmin = maskr\n",
    "xmax = I1.shape[0]- maskr\n",
    "ymin = maskr\n",
    "ymax = I1.shape[1]- maskr\n",
    "\n",
    "\n",
    "mask = np.zeros((7,7))"
   ]
  },
  {
   "cell_type": "code",
   "execution_count": 10,
   "metadata": {},
   "outputs": [
    {
     "name": "stdout",
     "output_type": "stream",
     "text": [
      "28.0\n"
     ]
    }
   ],
   "source": [
    "#apply circular mask on the image\n",
    "for i in range(xmin,xmax):\n",
    "    for j in range(ymin,ymax):\n",
    "        mask[:] = I1[i-maskr:i+maskr+1,j-maskr:j+maskr+1]\n",
    "        #run the critrion on the mask part of the image\n",
    "        #find the comparison ouput in a circle mask\n",
    "        len=2*maskr+1\n",
    "        cen=maskr\n",
    "        cenBri=mask[cen][cen]\n",
    "        for c in range(0,len):\n",
    "            for d in range(0,len):\n",
    "                if ((c-cen)*(c-cen)+(d-cen)*(d-cen)<=maskr*maskr):\n",
    "                    mask[c][d]=math.exp(-math.pow(((mask[c][d]-cenBri)/27),6))\n",
    "                else:\n",
    "                    #print(mask.shape)\n",
    "                    #print c,d\n",
    "                    mask[c][d]=0\n",
    "        mask[maskr][maskr] = 0\n",
    "        n = np.sum(mask)\n",
    "        R[i][j] = n\n",
    "        if maxN < n:\n",
    "            maxN = n\n",
    "\n",
    "print(maxN)"
   ]
  },
  {
   "cell_type": "code",
   "execution_count": 11,
   "metadata": {},
   "outputs": [
    {
     "name": "stdout",
     "output_type": "stream",
     "text": [
      "50845\n"
     ]
    }
   ],
   "source": [
    "#threshold the R matrix based on the formula R[i][j] = g - R[i][j] if R[i][j]<=g  and R[i][j] = g - R[i][j] if R[i][j]>g\n",
    "g = maxN/2\n",
    "for i in range(xmin,xmax):\n",
    "    for j in range(ymin,ymax):\n",
    "        if(R[i][j] >=g):\n",
    "            R[i][j] = 0\n",
    "        else:\n",
    "            R[i][j] = g - R[i][j]\n",
    "\n",
    "\n",
    "print(np.sum(np.nonzero(R)))"
   ]
  },
  {
   "cell_type": "code",
   "execution_count": 12,
   "metadata": {
    "collapsed": true
   },
   "outputs": [],
   "source": [
    "R1 = ndimage.maximum_filter(R,5)"
   ]
  },
  {
   "cell_type": "code",
   "execution_count": 13,
   "metadata": {
    "collapsed": true
   },
   "outputs": [],
   "source": [
    "#apply non max supression on the resultant R\n",
    "window = 5\n",
    "xmin = int(math.floor(window/2))\n",
    "xmax = int(I1.shape[0] - math.floor(window/2))\n",
    "ymin = int(math.floor(window/2))\n",
    "ymax = int(I1.shape[1] - math.floor(window/2))\n",
    "rad = int(math.floor(window/2))\n",
    "\n",
    "listx = []\n",
    "listy = []\n",
    "mask1 = np.zeros((window,window))"
   ]
  },
  {
   "cell_type": "code",
   "execution_count": 14,
   "metadata": {
    "collapsed": true
   },
   "outputs": [],
   "source": [
    "for i in range(xmin,xmax):\n",
    "    for j in range(ymin,ymax):\n",
    "\n",
    "        if R[i][j] == 0:\n",
    "            continue\n",
    "        mask1[:] = R[i-rad:i+rad+1,j-rad:j+rad+1]\n",
    "        val = np.max(mask1)\n",
    "        index= np.argmax(mask1)\n",
    "        if index==12:\n",
    "            listx.append(i)\n",
    "            listy.append(j)\n"
   ]
  },
  {
   "cell_type": "code",
   "execution_count": 15,
   "metadata": {},
   "outputs": [
    {
     "data": {
      "image/png": "[encoded data removed]",
      "text/plain": [
       "<matplotlib.figure.Figure at 0x7f1b2c595780>"
      ]
     },
     "metadata": {},
     "output_type": "display_data"
    },
    {
     "data": {
      "image/png": "[encoded data removed]",
      "text/plain": [
       "<matplotlib.figure.Figure at 0x7f1b2a438908>"
      ]
     },
     "metadata": {},
     "output_type": "display_data"
    }
   ],
   "source": [
    "#plot the  corners on the image\n",
    "\n",
    "plt.figure(2)\n",
    "plt.gray()\n",
    "plt.imshow(i1)\n",
    "plt.plot([p for p in listy],[p for p in listx],'o')\n",
    "plt.show()"
   ]
  },
  {
   "cell_type": "code",
   "execution_count": null,
   "metadata": {
    "collapsed": true
   },
   "outputs": [],
   "source": []
  }
 ],
 "metadata": {
  "kernelspec": {
   "display_name": "Python 3",
   "language": "python",
   "name": "python3"
  },
  "language_info": {
   "codemirror_mode": {
    "name": "ipython",
    "version": 3
   },
   "file_extension": ".py",
   "mimetype": "text/x-python",
   "name": "python",
   "nbconvert_exporter": "python",
   "pygments_lexer": "ipython3",
   "version": "3.5.2"
  }
 },
 "nbformat": 4,
 "nbformat_minor": 2
}
